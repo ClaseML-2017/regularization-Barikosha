{
 "cells": [
  {
   "cell_type": "code",
   "execution_count": 61,
   "metadata": {
    "collapsed": true
   },
   "outputs": [],
   "source": [
    "import pandas as pd\n",
    "import numpy as np\n",
    "import csv\n",
    "import random as rnd\n",
    "from sklearn.model_selection import train_test_split\n",
    "import matplotlib.pyplot as plt\n",
    "from sklearn import preprocessing"
   ]
  },
  {
   "cell_type": "code",
   "execution_count": 62,
   "metadata": {},
   "outputs": [],
   "source": [
    "#read data\n",
    "df = pd.read_csv(\"regLinPoli2.csv\")\n",
    "#divide into train and test\n",
    "X_train, X_test, Y_train, Y_test = train_test_split(df[df.columns[0:-1]],df[[df.columns[-1]]], train_size=0.75)\n",
    "#convert into arrays\n",
    "X_train=np.asarray(X_train)\n",
    "X_test=np.asarray(X_test)\n",
    "Y_train=np.asarray(Y_train)\n",
    "Y_test=np.asarray(Y_test)"
   ]
  },
  {
   "cell_type": "code",
   "execution_count": 63,
   "metadata": {},
   "outputs": [],
   "source": [
    "# Model(X)\n",
    "def V(w,X):\n",
    "    return X.dot(w[1:]) +w[0] "
   ]
  },
  {
   "cell_type": "code",
   "execution_count": 64,
   "metadata": {
    "collapsed": true
   },
   "outputs": [],
   "source": [
    "#Adjusting the weights\n",
    "def adjust(X,y,w,la,eta=0.01):\n",
    "    \n",
    "    for i in range(len(X)):\n",
    "        error=y[i]-V(w,X[i])\n",
    "        w[0]=w[0]+eta*(error)\n",
    "        w[1:]=w[1:]+eta*(error*X[i])-la*w[1:]\n",
    "    return w"
   ]
  },
  {
   "cell_type": "code",
   "execution_count": 65,
   "metadata": {
    "collapsed": true
   },
   "outputs": [],
   "source": [
    "def calcError(X,y,w,w0):\n",
    "    return np.mean((y-X.dot(w)-w0)**2)"
   ]
  },
  {
   "cell_type": "code",
   "execution_count": 66,
   "metadata": {
    "collapsed": true
   },
   "outputs": [],
   "source": [
    "#Escale los datos usando el StandardScaler\n",
    "scaler = preprocessing.StandardScaler().fit(X_train)\n",
    "X_train=scaler.transform(X_train)\n",
    "X_test=scaler.transform(X_test)\n",
    "\n",
    "scaler = preprocessing.StandardScaler().fit(Y_train)\n",
    "Y_train=scaler.transform(Y_train)\n",
    "Y_test=scaler.transform(Y_test)"
   ]
  },
  {
   "cell_type": "markdown",
   "metadata": {},
   "source": [
    "# lambda = 0"
   ]
  },
  {
   "cell_type": "code",
   "execution_count": 67,
   "metadata": {},
   "outputs": [
    {
     "name": "stdout",
     "output_type": "stream",
     "text": [
      "[ 0.42580787  0.73437874 -0.1441648   0.65382952  0.63468458 -0.11528655\n",
      "  0.16020932  0.6010072   0.52057084  0.50644111  0.00864401 -0.00722019\n",
      "  0.07336872  0.01310368  0.02585875 -0.00980818 -0.05418236 -0.00240534\n",
      " -0.05586913 -0.02523819 -0.00139894 -0.05857395 -0.00381107  0.01909658\n",
      "  0.02621757  0.00639691  0.05033807  0.03607842 -0.10178149 -0.05216652\n",
      "  0.02036718  0.008489    0.0467099   0.04248197 -0.08340064  0.02733046\n",
      "  0.01474451 -0.05070438 -0.04629866] 0.477885802141\n"
     ]
    }
   ],
   "source": [
    "#La regresión lineal iterativa regularizada\n",
    "w=np.asarray([rnd.random() for i in range(1+len(X_train[0]))])\n",
    "la = 0.0\n",
    "\n",
    "for i in range(len(w)):\n",
    "    w=adjust(X_train,Y_train,w,la)\n",
    "    \n",
    "error = calcError(X_train,Y_train.flatten(),w[1:],w[0])  \n",
    "\n",
    "print w, error "
   ]
  },
  {
   "cell_type": "markdown",
   "metadata": {},
   "source": [
    "# lambda = 0.001"
   ]
  },
  {
   "cell_type": "code",
   "execution_count": 68,
   "metadata": {},
   "outputs": [
    {
     "name": "stdout",
     "output_type": "stream",
     "text": [
      "[  3.53359716e-03   6.72147431e-01  -1.20307451e-01   5.74847890e-02\n",
      "   5.83148330e-02  -1.06787927e-01  -5.60283573e-03   5.60283573e-03\n",
      "  -5.74847890e-02  -5.83148330e-02   6.40987574e-03  -2.05070787e-02\n",
      "   7.46124933e-02   1.72506827e-02   2.93143057e-02  -1.62122772e-02\n",
      "  -5.62936768e-02  -6.40594025e-03  -5.48039670e-02  -2.69594015e-02\n",
      "  -5.30496353e-03  -6.10287290e-02   3.18143266e-04   2.74687741e-02\n",
      "   2.07093572e-02   6.20395057e-03   6.17393674e-02   3.61899176e-02\n",
      "  -9.48185531e-02  -5.73759733e-02   1.06469230e-02   5.00407192e-03\n",
      "   3.54235648e-02   3.95309391e-02  -7.78653536e-02   2.56508320e-02\n",
      "   1.85210583e-02  -5.79094318e-02  -4.38842917e-02] 0.481469948164\n"
     ]
    }
   ],
   "source": [
    "#La regresión lineal iterativa regularizada\n",
    "ww=np.asarray([rnd.random() for i in range(1+len(X_train[0]))])\n",
    "la = 0.001\n",
    "\n",
    "for i in range(len(ww)):\n",
    "    ww=adjust(X_train,Y_train,ww,la)\n",
    "    \n",
    "errorr = calcError(X_train,Y_train.flatten(),ww[1:],ww[0])  \n",
    "\n",
    "print ww, errorr "
   ]
  },
  {
   "cell_type": "markdown",
   "metadata": {},
   "source": [
    "We see that weights are different and error is smaller with lambda=0.001"
   ]
  },
  {
   "cell_type": "code",
   "execution_count": null,
   "metadata": {
    "collapsed": true
   },
   "outputs": [],
   "source": []
  }
 ],
 "metadata": {
  "kernelspec": {
   "display_name": "Python 2",
   "language": "python",
   "name": "python2"
  },
  "language_info": {
   "codemirror_mode": {
    "name": "ipython",
    "version": 2
   },
   "file_extension": ".py",
   "mimetype": "text/x-python",
   "name": "python",
   "nbconvert_exporter": "python",
   "pygments_lexer": "ipython2",
   "version": "2.7.10"
  }
 },
 "nbformat": 4,
 "nbformat_minor": 2
}
